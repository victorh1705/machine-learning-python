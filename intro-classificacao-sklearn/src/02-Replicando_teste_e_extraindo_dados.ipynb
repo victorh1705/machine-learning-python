{
 "cells": [
  {
   "cell_type": "markdown",
   "metadata": {
    "collapsed": true,
    "pycharm": {
     "name": "#%% md\n"
    }
   },
   "source": [
    "Vamos agora extrair os dados de um [link](https://gist.githubusercontent.com/guilhermesilveira/2d2efa37d66b6c84a722ea627a897ced/raw/10968b997d885cbded1c92938c7a9912ba41c615/tracking.csv), printa-lo e depois vamos partir para o treinamento dele.\n",
    "\n",
    "A base de dados é composta por páginas de um site e no fim por uma variável que indica se interação do usuário\n",
    "terminou em compra de produtos no site.\n"
   ]
  },
  {
   "cell_type": "code",
   "execution_count": 19,
   "outputs": [
    {
     "data": {
      "text/plain": "   home  how_it_works  contact  bought\n0     1             1        0       0\n1     1             1        0       0\n2     1             1        0       0\n3     1             1        0       0\n4     1             1        0       0",
      "text/html": "<div>\n<style scoped>\n    .dataframe tbody tr th:only-of-type {\n        vertical-align: middle;\n    }\n\n    .dataframe tbody tr th {\n        vertical-align: top;\n    }\n\n    .dataframe thead th {\n        text-align: right;\n    }\n</style>\n<table border=\"1\" class=\"dataframe\">\n  <thead>\n    <tr style=\"text-align: right;\">\n      <th></th>\n      <th>home</th>\n      <th>how_it_works</th>\n      <th>contact</th>\n      <th>bought</th>\n    </tr>\n  </thead>\n  <tbody>\n    <tr>\n      <th>0</th>\n      <td>1</td>\n      <td>1</td>\n      <td>0</td>\n      <td>0</td>\n    </tr>\n    <tr>\n      <th>1</th>\n      <td>1</td>\n      <td>1</td>\n      <td>0</td>\n      <td>0</td>\n    </tr>\n    <tr>\n      <th>2</th>\n      <td>1</td>\n      <td>1</td>\n      <td>0</td>\n      <td>0</td>\n    </tr>\n    <tr>\n      <th>3</th>\n      <td>1</td>\n      <td>1</td>\n      <td>0</td>\n      <td>0</td>\n    </tr>\n    <tr>\n      <th>4</th>\n      <td>1</td>\n      <td>1</td>\n      <td>0</td>\n      <td>0</td>\n    </tr>\n  </tbody>\n</table>\n</div>"
     },
     "execution_count": 19,
     "metadata": {},
     "output_type": "execute_result"
    }
   ],
   "source": [
    "import pandas as pd\n",
    "\n",
    "uri = \"https://gist.githubusercontent.com/guilhermesilveira/2d2efa37d66b6c84a722ea627a897ced/raw/10968b997d885cbded1c92938c7a9912ba41c615/tracking.csv\"\n",
    "dados = pd.read_csv(uri)\n",
    "dados.head()"
   ],
   "metadata": {
    "collapsed": false,
    "pycharm": {
     "name": "#%%\n"
    }
   }
  },
  {
   "cell_type": "code",
   "execution_count": 20,
   "outputs": [],
   "source": [
    "x = dados[[\"home\",\"how_it_works\",\"contact\"]]\n",
    "y = dados[\"bought\"]"
   ],
   "metadata": {
    "collapsed": false,
    "pycharm": {
     "name": "#%%\n"
    }
   }
  },
  {
   "cell_type": "markdown",
   "source": [
    "Feito a leitura dos dados, agora vamos fazer a divisão do dados para que possamos fazer o teste. Pra isso, vamos\n",
    "treinar o sistema com 75% do dadose treinar a porcentagem restante."
   ],
   "metadata": {
    "collapsed": false,
    "pycharm": {
     "name": "#%% md\n"
    }
   }
  },
  {
   "cell_type": "code",
   "execution_count": 21,
   "outputs": [],
   "source": [
    "treino_x = x[:75]\n",
    "treino_y = y[:75]\n",
    "teste_x = x[75:]\n",
    "teste_y = y[75:]"
   ],
   "metadata": {
    "collapsed": false,
    "pycharm": {
     "name": "#%%\n"
    }
   }
  },
  {
   "cell_type": "markdown",
   "source": [
    "Vamos treinar o nosso algorítmo"
   ],
   "metadata": {
    "collapsed": false,
    "pycharm": {
     "name": "#%% md\n"
    }
   }
  },
  {
   "cell_type": "code",
   "execution_count": 22,
   "outputs": [
    {
     "data": {
      "text/plain": "LinearSVC()"
     },
     "execution_count": 22,
     "metadata": {},
     "output_type": "execute_result"
    }
   ],
   "source": [
    "from sklearn.svm import LinearSVC\n",
    "\n",
    "modelo = LinearSVC()\n",
    "modelo.fit(treino_x, treino_y)"
   ],
   "metadata": {
    "collapsed": false,
    "pycharm": {
     "name": "#%%\n"
    }
   }
  },
  {
   "cell_type": "markdown",
   "source": [
    "Agora vamos fazer as previsões do dados restantes"
   ],
   "metadata": {
    "collapsed": false,
    "pycharm": {
     "name": "#%% md\n"
    }
   }
  },
  {
   "cell_type": "code",
   "execution_count": 23,
   "outputs": [
    {
     "name": "stdout",
     "output_type": "stream",
     "text": [
      "A acurácia foi de 95.83% \n"
     ]
    }
   ],
   "source": [
    "from sklearn.metrics import accuracy_score\n",
    "\n",
    "previsoes = modelo.predict(teste_x)\n",
    "acuracia = accuracy_score(teste_y, previsoes)\n",
    "\n",
    "print(\"A acurácia foi de %.2f%% \" % (acuracia * 100))"
   ],
   "metadata": {
    "collapsed": false,
    "pycharm": {
     "name": "#%%\n"
    }
   }
  },
  {
   "cell_type": "markdown",
   "source": [
    "# Estratificando o split"
   ],
   "metadata": {
    "collapsed": false,
    "pycharm": {
     "name": "#%% md\n"
    }
   }
  },
  {
   "cell_type": "code",
   "execution_count": 24,
   "outputs": [
    {
     "name": "stdout",
     "output_type": "stream",
     "text": [
      "A acurácia foi de 96.00% \n",
      "A acurácia foi de 100.00% \n",
      "A acurácia foi de 100.00% \n",
      "A acurácia foi de 96.00% \n",
      "A acurácia foi de 96.00% \n",
      "A acurácia foi de 92.00% \n"
     ]
    }
   ],
   "source": [
    "from sklearn.model_selection import train_test_split\n",
    "\n",
    "\n",
    "for i in range(6):\n",
    "    treino_x, teste_x, treino_y, teste_y = train_test_split(x, y, test_size =0.25)\n",
    "    previsoes = modelo.predict(teste_x)\n",
    "    acuracia = accuracy_score(teste_y, previsoes)\n",
    "\n",
    "    print(\"A acurácia foi de %.2f%% \" % (acuracia * 100))"
   ],
   "metadata": {
    "collapsed": false,
    "pycharm": {
     "name": "#%%\n"
    }
   }
  },
  {
   "cell_type": "markdown",
   "source": [
    "Ao executarmos várias vezes o algoritmo, podemos perceber que obtivemos resultado diferentes. Isso acontece porque a\n",
    "cada iteração, o array gerado nos treinos e teste são aleatório.\n",
    "\n",
    "Pra evitarmos isso e para que possamos reproduzir o mesmo resultado após repentinas chamada a mesma função, temos que\n",
    " definir um número no qual denominamos *SEED* pra que a divisão seja sempre a mesma em todas as chamadas"
   ],
   "metadata": {
    "collapsed": false,
    "pycharm": {
     "name": "#%% md\n"
    }
   }
  },
  {
   "cell_type": "code",
   "execution_count": 25,
   "outputs": [
    {
     "name": "stdout",
     "output_type": "stream",
     "text": [
      "A acurácia foi 96.00%\n",
      "A acurácia foi 96.00%\n",
      "A acurácia foi 96.00%\n",
      "A acurácia foi 96.00%\n",
      "A acurácia foi 96.00%\n"
     ]
    }
   ],
   "source": [
    "SEED = 20\n",
    "\n",
    "\n",
    "for i in range(5):\n",
    "    treino_x, teste_x, treino_y, teste_y = train_test_split(x, y, random_state = SEED, test_size = 0.25)\n",
    "\n",
    "    modelo = LinearSVC()\n",
    "    modelo.fit(treino_x, treino_y)\n",
    "    previsoes = modelo.predict(teste_x)\n",
    "\n",
    "    acuracia = accuracy_score(teste_y, previsoes) * 100\n",
    "    print(\"A acurácia foi %.2f%%\" % acuracia)"
   ],
   "metadata": {
    "collapsed": false,
    "pycharm": {
     "name": "#%%\n"
    }
   }
  },
  {
   "cell_type": "markdown",
   "source": [
    "Porém, se analisarmos as proporções entre as pessoas que compraram  e não entre os dados de treino e teste, podemos\n",
    "perceber uma diferença."
   ],
   "metadata": {
    "collapsed": false,
    "pycharm": {
     "name": "#%% md\n"
    }
   }
  },
  {
   "cell_type": "code",
   "execution_count": 26,
   "outputs": [
    {
     "data": {
      "text/plain": "              0   1 proporcao 0/1\n0  treino_y  47  27          1.74\n1   teste_y  19   6          3.17",
      "text/html": "<div>\n<style scoped>\n    .dataframe tbody tr th:only-of-type {\n        vertical-align: middle;\n    }\n\n    .dataframe tbody tr th {\n        vertical-align: top;\n    }\n\n    .dataframe thead th {\n        text-align: right;\n    }\n</style>\n<table border=\"1\" class=\"dataframe\">\n  <thead>\n    <tr style=\"text-align: right;\">\n      <th></th>\n      <th></th>\n      <th>0</th>\n      <th>1</th>\n      <th>proporcao 0/1</th>\n    </tr>\n  </thead>\n  <tbody>\n    <tr>\n      <th>0</th>\n      <td>treino_y</td>\n      <td>47</td>\n      <td>27</td>\n      <td>1.74</td>\n    </tr>\n    <tr>\n      <th>1</th>\n      <td>teste_y</td>\n      <td>19</td>\n      <td>6</td>\n      <td>3.17</td>\n    </tr>\n  </tbody>\n</table>\n</div>"
     },
     "execution_count": 26,
     "metadata": {},
     "output_type": "execute_result"
    }
   ],
   "source": [
    "import numpy as np\n",
    "import pandas as pd\n",
    "\n",
    "proporcao = np.zeros((2,4), dtype = object)\n",
    "\n",
    "\n",
    "treino_x, teste_x, treino_y, teste_y = train_test_split(x, y, random_state = SEED, test_size = 0.25)\n",
    "\n",
    "proporcao[0][0] = 'treino_y'\n",
    "proporcao[0][1] = treino_y.value_counts()[0]\n",
    "proporcao[0][2] = treino_y.value_counts()[1]\n",
    "proporcao[0][3] ='%.2f' %  (treino_y.value_counts()[0]/treino_y.value_counts()[1])\n",
    "\n",
    "proporcao[1][0] = 'teste_y'\n",
    "proporcao[1][1] = teste_y.value_counts()[0]\n",
    "proporcao[1][2] = teste_y.value_counts()[1]\n",
    "proporcao[1][3] = '%.2f' % (teste_y.value_counts()[0]/teste_y.value_counts()[1])\n",
    "\n",
    "\n",
    "pd.DataFrame(proporcao, columns=['',0,1, \"proporcao 0/1\"])"
   ],
   "metadata": {
    "collapsed": false,
    "pycharm": {
     "name": "#%%\n"
    }
   }
  },
  {
   "cell_type": "markdown",
   "source": [
    "Temos que evitaressa diferença de proporção entre as pessoas que compraram e as que não compraram. Pois, poderíamos\n",
    "em algum caso, testa somente casos que não houveram comprarm (ou virce-versa)\n",
    "\n",
    "Pra isso, adicionamos valor ao parametro **stratify** pra que ele nos ajude a diminuir essa disparidad. No nosso\n",
    "caso, queremos a proporção no **eixo Y**"
   ],
   "metadata": {
    "collapsed": false,
    "pycharm": {
     "name": "#%% md\n"
    }
   }
  },
  {
   "cell_type": "code",
   "execution_count": 27,
   "outputs": [
    {
     "data": {
      "text/plain": "              0   1 proporcao 0/1\n0  treino_y  49  25          1.96\n1   teste_y  17   8          2.12",
      "text/html": "<div>\n<style scoped>\n    .dataframe tbody tr th:only-of-type {\n        vertical-align: middle;\n    }\n\n    .dataframe tbody tr th {\n        vertical-align: top;\n    }\n\n    .dataframe thead th {\n        text-align: right;\n    }\n</style>\n<table border=\"1\" class=\"dataframe\">\n  <thead>\n    <tr style=\"text-align: right;\">\n      <th></th>\n      <th></th>\n      <th>0</th>\n      <th>1</th>\n      <th>proporcao 0/1</th>\n    </tr>\n  </thead>\n  <tbody>\n    <tr>\n      <th>0</th>\n      <td>treino_y</td>\n      <td>49</td>\n      <td>25</td>\n      <td>1.96</td>\n    </tr>\n    <tr>\n      <th>1</th>\n      <td>teste_y</td>\n      <td>17</td>\n      <td>8</td>\n      <td>2.12</td>\n    </tr>\n  </tbody>\n</table>\n</div>"
     },
     "execution_count": 27,
     "metadata": {},
     "output_type": "execute_result"
    }
   ],
   "source": [
    "proporcao = np.zeros((2,4), dtype = object)\n",
    "\n",
    "\n",
    "treino_x, teste_x, treino_y, teste_y = train_test_split(x, y, random_state = SEED, test_size = 0.25, stratify=y)\n",
    "\n",
    "proporcao[0][0] = 'treino_y'\n",
    "proporcao[0][1] = treino_y.value_counts()[0]\n",
    "proporcao[0][2] = treino_y.value_counts()[1]\n",
    "proporcao[0][3] ='%.2f' %  (treino_y.value_counts()[0]/treino_y.value_counts()[1])\n",
    "\n",
    "proporcao[1][0] = 'teste_y'\n",
    "proporcao[1][1] = teste_y.value_counts()[0]\n",
    "proporcao[1][2] = teste_y.value_counts()[1]\n",
    "proporcao[1][3] = '%.2f' % (teste_y.value_counts()[0]/teste_y.value_counts()[1])\n",
    "\n",
    "\n",
    "pd.DataFrame(proporcao, columns=['',0,1, \"proporcao 0/1\"])\n"
   ],
   "metadata": {
    "collapsed": false,
    "pycharm": {
     "name": "#%%\n"
    }
   }
  }
 ],
 "metadata": {
  "kernelspec": {
   "display_name": "Python 3",
   "language": "python",
   "name": "python3"
  },
  "language_info": {
   "codemirror_mode": {
    "name": "ipython",
    "version": 2
   },
   "file_extension": ".py",
   "mimetype": "text/x-python",
   "name": "python",
   "nbconvert_exporter": "python",
   "pygments_lexer": "ipython2",
   "version": "2.7.6"
  }
 },
 "nbformat": 4,
 "nbformat_minor": 0
}
{
 "cells": [
  {
   "cell_type": "markdown",
   "source": [
    "# Introdução a Classificação com SKlearn\n",
    "\n",
    "\n",
    "\n",
    "\n",
    "Nesse primeiro projeto, iremos trabalhar com uma simples para descobrir se um animal é **porco** ou **cachorro**.\n",
    "\n",
    "Para isso, teremos um array com 3 características:\n",
    "\n",
    "- pelo longo?\n",
    "- perna curta?\n",
    "- faz auau?\n",
    "\n",
    " Abaixo então, temos algumas características e depois definimos qual animal é o verdadeiro. Essa pequena base de\n",
    " dados será usada pra treinar a nossa máquina e fazer previsões de um determinado animal no futuro"
   ],
   "metadata": {
    "collapsed": false
   }
  },
  {
   "cell_type": "code",
   "execution_count": 1,
   "metadata": {
    "pycharm": {
     "name": "#%%\n"
    }
   },
   "outputs": [],
   "source": [
    "\n",
    "porco1 = [0, 1, 0]\n",
    "porco2 = [0, 1, 1]\n",
    "porco3 = [1, 1, 0]\n",
    "\n",
    "cachorro1 = [0, 1, 1]\n",
    "cachorro2 = [1, 0, 1]\n",
    "cachorro3 = [1, 1, 1]\n",
    "\n",
    "treino_x = [porco1, porco2, porco3, cachorro1, cachorro2, cachorro3]\n",
    "treino_y = ['porco','porco','porco','cachorro','cachorro','cachorro']"
   ]
  },
  {
   "cell_type": "markdown",
   "source": [
    "Aqui, fazemos o treinamento da máquina"
   ],
   "metadata": {
    "collapsed": false,
    "pycharm": {
     "name": "#%% md\n"
    }
   }
  },
  {
   "cell_type": "code",
   "execution_count": 2,
   "outputs": [
    {
     "data": {
      "text/plain": "LinearSVC()"
     },
     "execution_count": 2,
     "metadata": {},
     "output_type": "execute_result"
    }
   ],
   "source": [
    "from sklearn.svm import LinearSVC\n",
    "\n",
    "model = LinearSVC()\n",
    "model.fit(treino_x, treino_y)"
   ],
   "metadata": {
    "collapsed": false,
    "pycharm": {
     "name": "#%%\n"
    }
   }
  },
  {
   "cell_type": "markdown",
   "source": [
    "E finalmente, pedimos para que nossa máquina faça previsões dada características"
   ],
   "metadata": {
    "collapsed": false,
    "pycharm": {
     "name": "#%% md\n"
    }
   }
  },
  {
   "cell_type": "code",
   "execution_count": 3,
   "outputs": [
    {
     "data": {
      "text/plain": "array(['cachorro'], dtype='<U8')"
     },
     "execution_count": 3,
     "metadata": {},
     "output_type": "execute_result"
    }
   ],
   "source": [
    "animal_misterioso = [1,1,1]\n",
    "model.predict([animal_misterioso])\n"
   ],
   "metadata": {
    "collapsed": false,
    "pycharm": {
     "name": "#%%\n"
    }
   }
  },
  {
   "cell_type": "markdown",
   "source": [
    "Agora vamos fazer o treinamento de alguns animais que já são conhecidos, e vemos verificar a acurácia do resultado\n",
    "\n",
    "\n",
    "*ps:* 1 - porco e 0 - cachorro"
   ],
   "metadata": {
    "collapsed": false,
    "pycharm": {
     "name": "#%% md\n"
    }
   }
  },
  {
   "cell_type": "code",
   "source": [
    "animal1 = [1,1,1]\n",
    "animal2 = [1,1,0]\n",
    "animal3 = [0,1,1]\n",
    "\n",
    "teste_x = [animal1, animal2, animal3]\n",
    "teste_y = model.predict(teste_x)\n",
    "print('previsoes : ', teste_y)\n",
    "\n",
    "resultado_oficial = ['cachorro', 'porco', 'porco']\n",
    "\n",
    "\n",
    "from sklearn.metrics import accuracy_score\n",
    "\n",
    "taxa_acerto = accuracy_score(resultado_oficial, teste_y)\n",
    "\n",
    "print('Taxa de acerto: %.2f ' % (taxa_acerto * 100))\n"
   ],
   "metadata": {
    "collapsed": false,
    "pycharm": {
     "name": "#%%\n"
    }
   },
   "execution_count": 4,
   "outputs": [
    {
     "name": "stdout",
     "output_type": "stream",
     "text": [
      "previsoes :  ['cachorro' 'porco' 'cachorro']\n",
      "Taxa de acerto: 66.67 \n"
     ]
    }
   ]
  }
 ],
 "metadata": {
  "kernelspec": {
   "name": "python3",
   "language": "python",
   "display_name": "Python 3"
  },
  "language_info": {
   "codemirror_mode": {
    "name": "ipython",
    "version": 3
   },
   "file_extension": ".py",
   "mimetype": "text/x-python",
   "name": "python",
   "nbconvert_exporter": "python",
   "pygments_lexer": "ipython3",
   "version": "3.8.4"
  }
 },
 "nbformat": 4,
 "nbformat_minor": 1
}